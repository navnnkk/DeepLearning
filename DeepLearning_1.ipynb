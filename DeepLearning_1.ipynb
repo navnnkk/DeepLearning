{
 "cells": [
  {
   "cell_type": "code",
   "execution_count": 1,
   "metadata": {},
   "outputs": [
    {
     "name": "stderr",
     "output_type": "stream",
     "text": [
      "Using TensorFlow backend.\n"
     ]
    }
   ],
   "source": [
    "#-----------------ANN(Automatic Neural Network) ------------------------\n",
    "# part of deep Learning\n",
    "# ANN do the optimization automatically\n",
    "# DATASET USED: weight-height(DeepLearning_1).csv\n",
    "#-------------------------------------------\n",
    "\n",
    "from keras.models import Sequential"
   ]
  },
  {
   "cell_type": "code",
   "execution_count": 2,
   "metadata": {},
   "outputs": [],
   "source": [
    "model = Sequential()"
   ]
  },
  {
   "cell_type": "code",
   "execution_count": 3,
   "metadata": {},
   "outputs": [
    {
     "name": "stdout",
     "output_type": "stream",
     "text": [
      "WARNING:tensorflow:From /usr/local/lib/python3.6/site-packages/tensorflow/python/framework/op_def_library.py:263: colocate_with (from tensorflow.python.framework.ops) is deprecated and will be removed in a future version.\n",
      "Instructions for updating:\n",
      "Colocations handled automatically by placer.\n"
     ]
    }
   ],
   "source": [
    "from keras.layers import Dense\n",
    "\n",
    "# -------------------------------------\n",
    "# units: y\n",
    "# input_shape: x\n",
    "# add hidden layer: Dense\n",
    "# Dense: as its core do Linear\n",
    "# -------------------------------------\n",
    "\n",
    "model.add(Dense(units=1, input_shape=(1,)))"
   ]
  },
  {
   "cell_type": "code",
   "execution_count": 4,
   "metadata": {
    "scrolled": true
   },
   "outputs": [
    {
     "name": "stdout",
     "output_type": "stream",
     "text": [
      "_________________________________________________________________\n",
      "Layer (type)                 Output Shape              Param #   \n",
      "=================================================================\n",
      "dense_1 (Dense)              (None, 1)                 2         \n",
      "=================================================================\n",
      "Total params: 2\n",
      "Trainable params: 2\n",
      "Non-trainable params: 0\n",
      "_________________________________________________________________\n"
     ]
    }
   ],
   "source": [
    "model.summary()\n",
    "\n",
    "# optimizer: change the value\n",
    "from keras.optimizers import Adam, SGD\n",
    "model.compile(optimizer = Adam(lr = 0.8), loss = \"mean_squared_error\")  # --> to intigrate all layers"
   ]
  },
  {
   "cell_type": "code",
   "execution_count": 17,
   "metadata": {},
   "outputs": [
    {
     "data": {
      "text/plain": [
       "<matplotlib.axes._subplots.AxesSubplot at 0x7fd464112f98>"
      ]
     },
     "execution_count": 17,
     "metadata": {},
     "output_type": "execute_result"
    },
    {
     "data": {
      "image/png": "[encoded data removed]",
      "text/plain": [
       "<Figure size 432x288 with 1 Axes>"
      ]
     },
     "metadata": {
      "needs_background": "light"
     },
     "output_type": "display_data"
    }
   ],
   "source": [
    "# --------------------\n",
    "# loading dataset\n",
    "# --------------------\n",
    "\n",
    "import pandas as pd\n",
    "df = pd.read_csv(\"weight-height(DeepLearning_1).csv\")\n",
    "y = df['Weight'].values\n",
    "X = df[['Height']].values\n",
    "\n",
    "# --------------------------------------------------------------------\n",
    "# pandas function to plot graphs  --> data_frame.plot(kind= ' ', x= ' ', y=' ')\n",
    "# --------------------------------------------------------------------\n",
    "\n",
    "df.plot(kind = 'Scatter', x = 'Height', y = 'Weight', title = 'Weight and Height in adults')"
   ]
  },
  {
   "cell_type": "code",
   "execution_count": 18,
   "metadata": {},
   "outputs": [
    {
     "name": "stdout",
     "output_type": "stream",
     "text": [
      "Epoch 1/40\n",
      "10000/10000 [==============================] - 2s 158us/step - loss: 173.4222\n",
      "Epoch 2/40\n",
      "10000/10000 [==============================] - 1s 148us/step - loss: 176.4626\n",
      "Epoch 3/40\n",
      "10000/10000 [==============================] - 2s 158us/step - loss: 173.5944\n",
      "Epoch 4/40\n",
      "10000/10000 [==============================] - 2s 151us/step - loss: 173.3468\n",
      "Epoch 5/40\n",
      "10000/10000 [==============================] - 1s 150us/step - loss: 204.4596\n",
      "Epoch 6/40\n",
      "10000/10000 [==============================] - 2s 156us/step - loss: 177.2283\n",
      "Epoch 7/40\n",
      "10000/10000 [==============================] - 2s 172us/step - loss: 181.0262\n",
      "Epoch 8/40\n",
      "10000/10000 [==============================] - 2s 170us/step - loss: 170.9765\n",
      "Epoch 9/40\n",
      "10000/10000 [==============================] - 2s 173us/step - loss: 172.9893\n",
      "Epoch 10/40\n",
      "10000/10000 [==============================] - 2s 171us/step - loss: 184.5808\n",
      "Epoch 11/40\n",
      "10000/10000 [==============================] - 2s 181us/step - loss: 178.0994\n",
      "Epoch 12/40\n",
      "10000/10000 [==============================] - 2s 154us/step - loss: 171.2446\n",
      "Epoch 13/40\n",
      "10000/10000 [==============================] - 1s 89us/step - loss: 172.7575\n",
      "Epoch 14/40\n",
      "10000/10000 [==============================] - 1s 104us/step - loss: 176.9422\n",
      "Epoch 15/40\n",
      "10000/10000 [==============================] - 1s 88us/step - loss: 183.6832\n",
      "Epoch 16/40\n",
      "10000/10000 [==============================] - 1s 81us/step - loss: 180.3280\n",
      "Epoch 17/40\n",
      "10000/10000 [==============================] - 1s 83us/step - loss: 175.3328\n",
      "Epoch 18/40\n",
      "10000/10000 [==============================] - 1s 143us/step - loss: 172.7626\n",
      "Epoch 19/40\n",
      "10000/10000 [==============================] - 1s 119us/step - loss: 169.0354\n",
      "Epoch 20/40\n",
      "10000/10000 [==============================] - 1s 68us/step - loss: 172.9203\n",
      "Epoch 21/40\n",
      "10000/10000 [==============================] - 1s 64us/step - loss: 172.6184\n",
      "Epoch 22/40\n",
      "10000/10000 [==============================] - 1s 87us/step - loss: 172.8707\n",
      "Epoch 23/40\n",
      "10000/10000 [==============================] - 1s 89us/step - loss: 182.4560\n",
      "Epoch 24/40\n",
      "10000/10000 [==============================] - 1s 128us/step - loss: 175.9747\n",
      "Epoch 25/40\n",
      "10000/10000 [==============================] - 1s 78us/step - loss: 172.4072\n",
      "Epoch 26/40\n",
      "10000/10000 [==============================] - 1s 95us/step - loss: 175.3481\n",
      "Epoch 27/40\n",
      "10000/10000 [==============================] - 1s 132us/step - loss: 175.1416\n",
      "Epoch 28/40\n",
      "10000/10000 [==============================] - 1s 113us/step - loss: 188.1916\n",
      "Epoch 29/40\n",
      "10000/10000 [==============================] - 1s 113us/step - loss: 173.2835\n",
      "Epoch 30/40\n",
      "10000/10000 [==============================] - 1s 86us/step - loss: 169.3034\n",
      "Epoch 31/40\n",
      "10000/10000 [==============================] - 1s 72us/step - loss: 179.0815\n",
      "Epoch 32/40\n",
      "10000/10000 [==============================] - 1s 107us/step - loss: 190.1805\n",
      "Epoch 33/40\n",
      "10000/10000 [==============================] - 1s 136us/step - loss: 181.0134\n",
      "Epoch 34/40\n",
      "10000/10000 [==============================] - 1s 96us/step - loss: 174.9208\n",
      "Epoch 35/40\n",
      "10000/10000 [==============================] - 1s 108us/step - loss: 173.6877\n",
      "Epoch 36/40\n",
      "10000/10000 [==============================] - 1s 133us/step - loss: 176.8358\n",
      "Epoch 37/40\n",
      "10000/10000 [==============================] - 1s 73us/step - loss: 177.3732\n",
      "Epoch 38/40\n",
      "10000/10000 [==============================] - 1s 101us/step - loss: 186.9850\n",
      "Epoch 39/40\n",
      "10000/10000 [==============================] - 2s 164us/step - loss: 181.4426\n",
      "Epoch 40/40\n",
      "10000/10000 [==============================] - 2s 196us/step - loss: 176.2632\n"
     ]
    },
    {
     "data": {
      "text/plain": [
       "<keras.callbacks.History at 0x7fd464105a90>"
      ]
     },
     "execution_count": 18,
     "metadata": {},
     "output_type": "execute_result"
    }
   ],
   "source": [
    "# epochs here means no of times we want to train our model for each data in dataset\n",
    "model.fit(X, y, epochs=40)"
   ]
  },
  {
   "cell_type": "code",
   "execution_count": 21,
   "metadata": {},
   "outputs": [],
   "source": [
    "y_pred = model.predict(X)"
   ]
  },
  {
   "cell_type": "code",
   "execution_count": 22,
   "metadata": {},
   "outputs": [
    {
     "data": {
      "text/plain": [
       "[<matplotlib.lines.Line2D at 0x7fd464064f28>]"
      ]
     },
     "execution_count": 22,
     "metadata": {},
     "output_type": "execute_result"
    },
    {
     "data": {
      "image/png": "[encoded data removed]",
      "text/plain": [
       "<Figure size 432x288 with 1 Axes>"
      ]
     },
     "metadata": {
      "needs_background": "light"
     },
     "output_type": "display_data"
    }
   ],
   "source": [
    "# --------------------------------------------------------\n",
    "# visualizing the best fit curve after training my model\n",
    "# --------------------------------------------------------\n",
    "\n",
    "import  matplotlib.pyplot  as plt\n",
    "\n",
    "df.plot(kind='scatter',\n",
    "        x='Height',\n",
    "        y='Weight',\n",
    "        title='Weight and Height in adults')\n",
    "plt.plot(X, y_pred, color='red')"
   ]
  },
  {
   "cell_type": "code",
   "execution_count": 23,
   "metadata": {},
   "outputs": [],
   "source": [
    "W, B = model.get_weights()"
   ]
  },
  {
   "cell_type": "code",
   "execution_count": 24,
   "metadata": {},
   "outputs": [
    {
     "data": {
      "text/plain": [
       "array([[7.728605]], dtype=float32)"
      ]
     },
     "execution_count": 24,
     "metadata": {},
     "output_type": "execute_result"
    }
   ],
   "source": [
    "W"
   ]
  },
  {
   "cell_type": "code",
   "execution_count": 25,
   "metadata": {},
   "outputs": [
    {
     "data": {
      "text/plain": [
       "array([-350.55264], dtype=float32)"
      ]
     },
     "execution_count": 25,
     "metadata": {},
     "output_type": "execute_result"
    }
   ],
   "source": [
    "B"
   ]
  },
  {
   "cell_type": "code",
   "execution_count": 27,
   "metadata": {},
   "outputs": [
    {
     "name": "stdout",
     "output_type": "stream",
     "text": [
      "The R2 score is 0.854\n"
     ]
    }
   ],
   "source": [
    "# -------------------------------\n",
    "# Evaluating Model Performance\n",
    "# -------------------------------\n",
    "\n",
    "from sklearn.metrics import r2_score\n",
    "print(\"The R2 score is {:0.3f}\".format(r2_score(y, y_pred)))\n"
   ]
  },
  {
   "cell_type": "code",
   "execution_count": 28,
   "metadata": {},
   "outputs": [],
   "source": [
    "#------------------------------------------------\n",
    "# spliting dataset into train and test dataset\n",
    "#------------------------------------------------\n",
    "\n",
    "from sklearn.model_selection import train_test_split\n",
    "X_train, X_test, y_train, y_test = train_test_split(X, y, test_size=0.2, random_state=42)"
   ]
  },
  {
   "cell_type": "code",
   "execution_count": 29,
   "metadata": {},
   "outputs": [],
   "source": [
    "# ----------------------------------------------\n",
    "# reset the weight to again train, detraining \n",
    "# ----------------------------------------------\n",
    "\n",
    "W[0, 0] = 0.0\n",
    "B[0] = 0.0\n",
    "model.set_weights((W, B))"
   ]
  },
  {
   "cell_type": "code",
   "execution_count": 30,
   "metadata": {},
   "outputs": [
    {
     "data": {
      "text/plain": [
       "<keras.callbacks.History at 0x7fd4520c1048>"
      ]
     },
     "execution_count": 30,
     "metadata": {},
     "output_type": "execute_result"
    }
   ],
   "source": [
    "model.fit(X_train, y_train, epochs=50, verbose=0)"
   ]
  },
  {
   "cell_type": "code",
   "execution_count": 31,
   "metadata": {},
   "outputs": [],
   "source": [
    "y_train_pred = model.predict(X_train).ravel()\n",
    "y_test_pred = model.predict(X_test).ravel()"
   ]
  },
  {
   "cell_type": "code",
   "execution_count": 32,
   "metadata": {},
   "outputs": [
    {
     "name": "stdout",
     "output_type": "stream",
     "text": [
      "The Mean Squared Error on the Train set is:\t168.6\n",
      "The Mean Squared Error on the Test set is:\t170.8\n"
     ]
    }
   ],
   "source": [
    "# -------------------------------------------------------------------\n",
    "# Checking the performance of your trained model by calculating MSE\n",
    "# -------------------------------------------------------------------\n",
    "\n",
    "\n",
    "from sklearn.metrics import mean_squared_error as mse\n",
    "\n",
    "print(\"The Mean Squared Error on the Train set is:\\t{:0.1f}\".format(mse(y_train, y_train_pred)))\n",
    "print(\"The Mean Squared Error on the Test set is:\\t{:0.1f}\".format(mse(y_test, y_test_pred)))"
   ]
  },
  {
   "cell_type": "code",
   "execution_count": 33,
   "metadata": {},
   "outputs": [
    {
     "name": "stdout",
     "output_type": "stream",
     "text": [
      "The R2 score on the Train set is:\t0.836\n",
      "The R2 score on the Test set is:\t0.837\n"
     ]
    }
   ],
   "source": [
    "# --------------------\n",
    "# Checking R2 Score\n",
    "# --------------------\n",
    "\n",
    "print(\"The R2 score on the Train set is:\\t{:0.3f}\".format(r2_score(y_train, y_train_pred)))\n",
    "print(\"The R2 score on the Test set is:\\t{:0.3f}\".format(r2_score(y_test, y_test_pred)))"
   ]
  },
  {
   "cell_type": "code",
   "execution_count": 34,
   "metadata": {},
   "outputs": [],
   "source": [
    "# The Model is Trained very good as the R2 score is almost same"
   ]
  },
  {
   "cell_type": "code",
   "execution_count": null,
   "metadata": {},
   "outputs": [],
   "source": []
  }
 ],
 "metadata": {
  "kernelspec": {
   "display_name": "Python 3",
   "language": "python",
   "name": "python3"
  },
  "language_info": {
   "codemirror_mode": {
    "name": "ipython",
    "version": 3
   },
   "file_extension": ".py",
   "mimetype": "text/x-python",
   "name": "python",
   "nbconvert_exporter": "python",
   "pygments_lexer": "ipython3",
   "version": "3.6.8"
  }
 },
 "nbformat": 4,
 "nbformat_minor": 2
}
