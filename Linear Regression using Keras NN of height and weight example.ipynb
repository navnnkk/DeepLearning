{
 "cells": [
  {
   "cell_type": "code",
   "execution_count": 1,
   "metadata": {},
   "outputs": [
    {
     "name": "stderr",
     "output_type": "stream",
     "text": [
      "Using TensorFlow backend.\n"
     ]
    }
   ],
   "source": [
    "from keras.models import Sequential\n",
    "from keras.layers import Dense\n",
    "\n",
    "# optimizer: change the value of weight and biases: to looking for minimum cost\n",
    "from keras.optimizers import Adam, SGD"
   ]
  },
  {
   "cell_type": "code",
   "execution_count": 2,
   "metadata": {},
   "outputs": [],
   "source": [
    "model = Sequential()"
   ]
  },
  {
   "cell_type": "code",
   "execution_count": 3,
   "metadata": {},
   "outputs": [
    {
     "name": "stdout",
     "output_type": "stream",
     "text": [
      "WARNING:tensorflow:From /usr/local/lib/python3.6/site-packages/tensorflow/python/framework/op_def_library.py:263: colocate_with (from tensorflow.python.framework.ops) is deprecated and will be removed in a future version.\n",
      "Instructions for updating:\n",
      "Colocations handled automatically by placer.\n"
     ]
    }
   ],
   "source": [
    "# units: how many output value\n",
    "# input_shape: how many input value\n",
    "# Dense: as its core do linear function, means if we dont apply any activation function, so it is linear activation function\n",
    "model.add(Dense(units = 1, input_shape=(1,)))"
   ]
  },
  {
   "cell_type": "code",
   "execution_count": 4,
   "metadata": {
    "scrolled": true
   },
   "outputs": [
    {
     "name": "stdout",
     "output_type": "stream",
     "text": [
      "_________________________________________________________________\n",
      "Layer (type)                 Output Shape              Param #   \n",
      "=================================================================\n",
      "dense_1 (Dense)              (None, 1)                 2         \n",
      "=================================================================\n",
      "Total params: 2\n",
      "Trainable params: 2\n",
      "Non-trainable params: 0\n",
      "_________________________________________________________________\n"
     ]
    }
   ],
   "source": [
    "model.summary()\n",
    "\n",
    "# here we have to 2 parameter, that is  \"weight and bias\""
   ]
  },
  {
   "cell_type": "code",
   "execution_count": 5,
   "metadata": {},
   "outputs": [],
   "source": [
    "model.compile(optimizer = Adam(lr=0.8), loss='mean_squared_error')"
   ]
  },
  {
   "cell_type": "code",
   "execution_count": 6,
   "metadata": {},
   "outputs": [],
   "source": [
    "import pandas as pd\n",
    "df = pd.read_csv('weight-height.csv')"
   ]
  },
  {
   "cell_type": "code",
   "execution_count": 10,
   "metadata": {},
   "outputs": [
    {
     "data": {
      "text/plain": [
       "(10000,)"
      ]
     },
     "execution_count": 10,
     "metadata": {},
     "output_type": "execute_result"
    }
   ],
   "source": [
    "X = df[['Height']].values\n",
    "y_true = df['Weight'].values\n",
    "y_true.shape"
   ]
  },
  {
   "cell_type": "code",
   "execution_count": 27,
   "metadata": {
    "scrolled": true
   },
   "outputs": [
    {
     "data": {
      "text/plain": [
       "<matplotlib.axes._subplots.AxesSubplot at 0x7f57209e80f0>"
      ]
     },
     "execution_count": 27,
     "metadata": {},
     "output_type": "execute_result"
    },
    {
     "data": {
      "image/png": "[encoded data removed]",
      "text/plain": [
       "<Figure size 432x288 with 1 Axes>"
      ]
     },
     "metadata": {
      "needs_background": "light"
     },
     "output_type": "display_data"
    }
   ],
   "source": [
    "df.plot(kind='scatter',\n",
    "        x='Height',\n",
    "        y='Weight',\n",
    "        title='Weight and Height in adults')"
   ]
  },
  {
   "cell_type": "code",
   "execution_count": 28,
   "metadata": {},
   "outputs": [
    {
     "name": "stdout",
     "output_type": "stream",
     "text": [
      "Epoch 1/40\n",
      "10000/10000 [==============================] - 0s 47us/step - loss: 928.6488\n",
      "Epoch 2/40\n",
      "10000/10000 [==============================] - 0s 30us/step - loss: 564.7789\n",
      "Epoch 3/40\n",
      "10000/10000 [==============================] - 0s 34us/step - loss: 514.3138\n",
      "Epoch 4/40\n",
      "10000/10000 [==============================] - 0s 34us/step - loss: 467.9105\n",
      "Epoch 5/40\n",
      "10000/10000 [==============================] - 0s 36us/step - loss: 439.6936\n",
      "Epoch 6/40\n",
      "10000/10000 [==============================] - 0s 36us/step - loss: 374.5173\n",
      "Epoch 7/40\n",
      "10000/10000 [==============================] - 0s 37us/step - loss: 336.0512\n",
      "Epoch 8/40\n",
      "10000/10000 [==============================] - 0s 38us/step - loss: 307.7063\n",
      "Epoch 9/40\n",
      "10000/10000 [==============================] - 0s 28us/step - loss: 280.6280\n",
      "Epoch 10/40\n",
      "10000/10000 [==============================] - 0s 43us/step - loss: 285.4562\n",
      "Epoch 11/40\n",
      "10000/10000 [==============================] - 0s 50us/step - loss: 246.4297\n",
      "Epoch 12/40\n",
      "10000/10000 [==============================] - 0s 37us/step - loss: 221.4202\n",
      "Epoch 13/40\n",
      "10000/10000 [==============================] - 0s 36us/step - loss: 212.8582\n",
      "Epoch 14/40\n",
      "10000/10000 [==============================] - 0s 33us/step - loss: 212.2863\n",
      "Epoch 15/40\n",
      "10000/10000 [==============================] - 0s 33us/step - loss: 201.1090\n",
      "Epoch 16/40\n",
      "10000/10000 [==============================] - 0s 34us/step - loss: 202.8980\n",
      "Epoch 17/40\n",
      "10000/10000 [==============================] - 0s 35us/step - loss: 195.3388\n",
      "Epoch 18/40\n",
      "10000/10000 [==============================] - 0s 32us/step - loss: 189.6378\n",
      "Epoch 19/40\n",
      "10000/10000 [==============================] - 0s 33us/step - loss: 186.6858\n",
      "Epoch 20/40\n",
      "10000/10000 [==============================] - 0s 32us/step - loss: 186.6056\n",
      "Epoch 21/40\n",
      "10000/10000 [==============================] - 0s 35us/step - loss: 184.1186\n",
      "Epoch 22/40\n",
      "10000/10000 [==============================] - 0s 41us/step - loss: 174.9390\n",
      "Epoch 23/40\n",
      "10000/10000 [==============================] - 0s 46us/step - loss: 179.3822\n",
      "Epoch 24/40\n",
      "10000/10000 [==============================] - 0s 35us/step - loss: 184.0496\n",
      "Epoch 25/40\n",
      "10000/10000 [==============================] - 0s 31us/step - loss: 177.2556\n",
      "Epoch 26/40\n",
      "10000/10000 [==============================] - 0s 33us/step - loss: 171.1046\n",
      "Epoch 27/40\n",
      "10000/10000 [==============================] - 0s 35us/step - loss: 180.7188\n",
      "Epoch 28/40\n",
      "10000/10000 [==============================] - 0s 33us/step - loss: 182.2068\n",
      "Epoch 29/40\n",
      "10000/10000 [==============================] - 0s 35us/step - loss: 194.2452\n",
      "Epoch 30/40\n",
      "10000/10000 [==============================] - 0s 32us/step - loss: 175.0261\n",
      "Epoch 31/40\n",
      "10000/10000 [==============================] - 0s 36us/step - loss: 184.6014\n",
      "Epoch 32/40\n",
      "10000/10000 [==============================] - 0s 33us/step - loss: 183.4164\n",
      "Epoch 33/40\n",
      "10000/10000 [==============================] - 0s 37us/step - loss: 176.5797\n",
      "Epoch 34/40\n",
      "10000/10000 [==============================] - 0s 33us/step - loss: 181.2873\n",
      "Epoch 35/40\n",
      "10000/10000 [==============================] - 0s 38us/step - loss: 178.5779\n",
      "Epoch 36/40\n",
      "10000/10000 [==============================] - 0s 31us/step - loss: 168.9623\n",
      "Epoch 37/40\n",
      "10000/10000 [==============================] - 0s 35us/step - loss: 188.4396\n",
      "Epoch 38/40\n",
      "10000/10000 [==============================] - 0s 33us/step - loss: 169.8340\n",
      "Epoch 39/40\n",
      "10000/10000 [==============================] - 0s 38us/step - loss: 184.5107\n",
      "Epoch 40/40\n",
      "10000/10000 [==============================] - 0s 39us/step - loss: 175.0637\n"
     ]
    },
    {
     "data": {
      "text/plain": [
       "<keras.callbacks.History at 0x7f56ff71f588>"
      ]
     },
     "execution_count": 28,
     "metadata": {},
     "output_type": "execute_result"
    }
   ],
   "source": [
    "# find value w and b, to have minimum loss\n",
    "model.fit(X, y_true, epochs=40)"
   ]
  },
  {
   "cell_type": "code",
   "execution_count": 29,
   "metadata": {},
   "outputs": [],
   "source": [
    "y_pred = model.predict(X)"
   ]
  },
  {
   "cell_type": "code",
   "execution_count": 30,
   "metadata": {},
   "outputs": [
    {
     "data": {
      "text/plain": [
       "[<matplotlib.lines.Line2D at 0x7f56ff4acc50>]"
      ]
     },
     "execution_count": 30,
     "metadata": {},
     "output_type": "execute_result"
    },
    {
     "data": {
      "image/png": "[encoded data removed]",
      "text/plain": [
       "<Figure size 432x288 with 1 Axes>"
      ]
     },
     "metadata": {
      "needs_background": "light"
     },
     "output_type": "display_data"
    }
   ],
   "source": [
    "import  matplotlib.pyplot  as plt\n",
    "\n",
    "df.plot(kind='scatter',\n",
    "        x='Height',\n",
    "        y='Weight',\n",
    "        title='Weight and Height in adults')\n",
    "plt.plot(X, y_pred, color='red')"
   ]
  },
  {
   "cell_type": "code",
   "execution_count": 31,
   "metadata": {},
   "outputs": [],
   "source": [
    "W, B = model.get_weights()"
   ]
  },
  {
   "cell_type": "code",
   "execution_count": 32,
   "metadata": {},
   "outputs": [
    {
     "data": {
      "text/plain": [
       "array([[7.6312966]], dtype=float32)"
      ]
     },
     "execution_count": 32,
     "metadata": {},
     "output_type": "execute_result"
    }
   ],
   "source": [
    "W"
   ]
  },
  {
   "cell_type": "code",
   "execution_count": 33,
   "metadata": {},
   "outputs": [
    {
     "data": {
      "text/plain": [
       "array([-348.81995], dtype=float32)"
      ]
     },
     "execution_count": 33,
     "metadata": {},
     "output_type": "execute_result"
    }
   ],
   "source": [
    "B"
   ]
  },
  {
   "cell_type": "code",
   "execution_count": 34,
   "metadata": {},
   "outputs": [
    {
     "name": "stdout",
     "output_type": "stream",
     "text": [
      "The R2 score is 0.841\n"
     ]
    }
   ],
   "source": [
    "# Evaluating Model Performance\n",
    "from sklearn.metrics import r2_score\n",
    "print(\"The R2 score is {:0.3f}\".format(r2_score(y_true, y_pred)))"
   ]
  },
  {
   "cell_type": "code",
   "execution_count": 35,
   "metadata": {},
   "outputs": [],
   "source": [
    "from sklearn.model_selection import train_test_split\n",
    "X_train, X_test, y_train, y_test = train_test_split(X, y_true,\n",
    "                                                    test_size=0.2)"
   ]
  },
  {
   "cell_type": "code",
   "execution_count": 36,
   "metadata": {},
   "outputs": [],
   "source": [
    "# reset the weight to again train, detraining \n",
    "\n",
    "W[0, 0] = 0.0\n",
    "B[0] = 0.0\n",
    "model.set_weights((W, B))"
   ]
  },
  {
   "cell_type": "code",
   "execution_count": 37,
   "metadata": {},
   "outputs": [
    {
     "data": {
      "text/plain": [
       "<keras.callbacks.History at 0x7f56f6b53fd0>"
      ]
     },
     "execution_count": 37,
     "metadata": {},
     "output_type": "execute_result"
    }
   ],
   "source": [
    "model.fit(X_train, y_train, epochs=50, verbose=0)"
   ]
  },
  {
   "cell_type": "code",
   "execution_count": 38,
   "metadata": {},
   "outputs": [],
   "source": [
    "y_train_pred = model.predict(X_train).ravel()\n",
    "y_test_pred = model.predict(X_test).ravel()"
   ]
  },
  {
   "cell_type": "code",
   "execution_count": 39,
   "metadata": {},
   "outputs": [],
   "source": [
    "from sklearn.metrics import mean_squared_error as mse"
   ]
  },
  {
   "cell_type": "code",
   "execution_count": 40,
   "metadata": {},
   "outputs": [
    {
     "name": "stdout",
     "output_type": "stream",
     "text": [
      "The Mean Squared Error on the Train set is:\t149.5\n",
      "The Mean Squared Error on the Test set is:\t149.1\n"
     ]
    }
   ],
   "source": [
    "print(\"The Mean Squared Error on the Train set is:\\t{:0.1f}\".format(mse(y_train, y_train_pred)))\n",
    "print(\"The Mean Squared Error on the Test set is:\\t{:0.1f}\".format(mse(y_test, y_test_pred)))"
   ]
  },
  {
   "cell_type": "code",
   "execution_count": 41,
   "metadata": {},
   "outputs": [
    {
     "name": "stdout",
     "output_type": "stream",
     "text": [
      "The R2 score on the Train set is:\t0.855\n",
      "The R2 score on the Test set is:\t0.856\n"
     ]
    }
   ],
   "source": [
    "print(\"The R2 score on the Train set is:\\t{:0.3f}\".format(r2_score(y_train, y_train_pred)))\n",
    "print(\"The R2 score on the Test set is:\\t{:0.3f}\".format(r2_score(y_test, y_test_pred)))"
   ]
  },
  {
   "cell_type": "code",
   "execution_count": 1,
   "metadata": {},
   "outputs": [],
   "source": [
    "# congrats we are getting almost same R2 score on both the train and test datasets\n",
    "# we are finished for this example"
   ]
  }
 ],
 "metadata": {
  "kernelspec": {
   "display_name": "Python 3",
   "language": "python",
   "name": "python3"
  },
  "language_info": {
   "codemirror_mode": {
    "name": "ipython",
    "version": 3
   },
   "file_extension": ".py",
   "mimetype": "text/x-python",
   "name": "python",
   "nbconvert_exporter": "python",
   "pygments_lexer": "ipython3",
   "version": "3.6.8"
  }
 },
 "nbformat": 4,
 "nbformat_minor": 2
}
