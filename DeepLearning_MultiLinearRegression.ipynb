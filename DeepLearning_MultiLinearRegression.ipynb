{
 "cells": [
  {
   "cell_type": "code",
   "execution_count": 24,
   "metadata": {},
   "outputs": [],
   "source": [
    "from keras.models import Sequential\n",
    "from keras.layers import Dense\n",
    "\n",
    "# optimizer: change the value of weight and biases: to looking for minimum cost\n",
    "from keras.optimizers import Adam, SGD\n",
    "import pandas as pd"
   ]
  },
  {
   "cell_type": "code",
   "execution_count": 25,
   "metadata": {},
   "outputs": [],
   "source": [
    "model = Sequential()"
   ]
  },
  {
   "cell_type": "code",
   "execution_count": 26,
   "metadata": {},
   "outputs": [],
   "source": [
    "df = pd.read_csv(\"50_Startups.csv\")"
   ]
  },
  {
   "cell_type": "code",
   "execution_count": 39,
   "metadata": {},
   "outputs": [
    {
     "data": {
      "text/html": [
       "<div>\n",
       "<style scoped>\n",
       "    .dataframe tbody tr th:only-of-type {\n",
       "        vertical-align: middle;\n",
       "    }\n",
       "\n",
       "    .dataframe tbody tr th {\n",
       "        vertical-align: top;\n",
       "    }\n",
       "\n",
       "    .dataframe thead th {\n",
       "        text-align: right;\n",
       "    }\n",
       "</style>\n",
       "<table border=\"1\" class=\"dataframe\">\n",
       "  <thead>\n",
       "    <tr style=\"text-align: right;\">\n",
       "      <th></th>\n",
       "      <th>R&amp;D Spend</th>\n",
       "      <th>Administration</th>\n",
       "      <th>Marketing Spend</th>\n",
       "      <th>State</th>\n",
       "      <th>Profit</th>\n",
       "    </tr>\n",
       "  </thead>\n",
       "  <tbody>\n",
       "    <tr>\n",
       "      <th>0</th>\n",
       "      <td>165349.20</td>\n",
       "      <td>136897.80</td>\n",
       "      <td>471784.10</td>\n",
       "      <td>New York</td>\n",
       "      <td>192261.83</td>\n",
       "    </tr>\n",
       "    <tr>\n",
       "      <th>1</th>\n",
       "      <td>162597.70</td>\n",
       "      <td>151377.59</td>\n",
       "      <td>443898.53</td>\n",
       "      <td>California</td>\n",
       "      <td>191792.06</td>\n",
       "    </tr>\n",
       "    <tr>\n",
       "      <th>2</th>\n",
       "      <td>153441.51</td>\n",
       "      <td>101145.55</td>\n",
       "      <td>407934.54</td>\n",
       "      <td>Florida</td>\n",
       "      <td>191050.39</td>\n",
       "    </tr>\n",
       "    <tr>\n",
       "      <th>3</th>\n",
       "      <td>144372.41</td>\n",
       "      <td>118671.85</td>\n",
       "      <td>383199.62</td>\n",
       "      <td>New York</td>\n",
       "      <td>182901.99</td>\n",
       "    </tr>\n",
       "    <tr>\n",
       "      <th>4</th>\n",
       "      <td>142107.34</td>\n",
       "      <td>91391.77</td>\n",
       "      <td>366168.42</td>\n",
       "      <td>Florida</td>\n",
       "      <td>166187.94</td>\n",
       "    </tr>\n",
       "  </tbody>\n",
       "</table>\n",
       "</div>"
      ],
      "text/plain": [
       "   R&D Spend  Administration  Marketing Spend       State     Profit\n",
       "0  165349.20       136897.80        471784.10    New York  192261.83\n",
       "1  162597.70       151377.59        443898.53  California  191792.06\n",
       "2  153441.51       101145.55        407934.54     Florida  191050.39\n",
       "3  144372.41       118671.85        383199.62    New York  182901.99\n",
       "4  142107.34        91391.77        366168.42     Florida  166187.94"
      ]
     },
     "execution_count": 39,
     "metadata": {},
     "output_type": "execute_result"
    }
   ],
   "source": [
    "df.head(5)"
   ]
  },
  {
   "cell_type": "code",
   "execution_count": 28,
   "metadata": {},
   "outputs": [],
   "source": [
    "# converting the state column which is in string to numeric value by using OneHotEncoder\n",
    "# ----------------------------------------------------------------------------------------\n",
    "\n",
    "from sklearn.preprocessing import LabelEncoder\n",
    "from sklearn.preprocessing import OneHotEncoder\n",
    "from sklearn.model_selection import train_test_split\n",
    "from sklearn import metrics\n",
    "import numpy as np"
   ]
  },
  {
   "cell_type": "code",
   "execution_count": 29,
   "metadata": {},
   "outputs": [
    {
     "name": "stderr",
     "output_type": "stream",
     "text": [
      "/usr/local/lib64/python3.6/site-packages/sklearn/preprocessing/_encoders.py:371: FutureWarning: The handling of integer data will change in version 0.22. Currently, the categories are determined based on the range [0, max(values)], while in the future they will be determined based on the unique values.\n",
      "If you want the future behaviour and silence this warning, you can specify \"categories='auto'\".\n",
      "In case you used a LabelEncoder before this OneHotEncoder to convert the categories to integers, then you can now use the OneHotEncoder directly.\n",
      "  warnings.warn(msg, FutureWarning)\n",
      "/usr/local/lib64/python3.6/site-packages/sklearn/preprocessing/_encoders.py:392: DeprecationWarning: The 'categorical_features' keyword is deprecated in version 0.20 and will be removed in 0.22. You can use the ColumnTransformer instead.\n",
      "  \"use the ColumnTransformer instead.\", DeprecationWarning)\n"
     ]
    }
   ],
   "source": [
    "X = df.iloc[:,0:4]\n",
    "y = df.iloc[:,-1]\n",
    "\n",
    "le = LabelEncoder()\n",
    "le_X = le.fit_transform(X.iloc[:,-1])\n",
    "X.iloc[:,-1] = le_X\n",
    "\n",
    "ohe = OneHotEncoder(categorical_features=[-1])\n",
    "X = ohe.fit_transform(X).toarray()\n",
    "X = X[:,1:6]"
   ]
  },
  {
   "cell_type": "code",
   "execution_count": 30,
   "metadata": {},
   "outputs": [],
   "source": [
    "# -------------------------------------\n",
    "# units: y\n",
    "# input_shape: x\n",
    "# add hidden layer: Dense\n",
    "# Dense: as its core do Linear\n",
    "# -------------------------------------\n",
    "\n",
    "model.add(Dense(units=1, input_shape=(5,)))"
   ]
  },
  {
   "cell_type": "code",
   "execution_count": 31,
   "metadata": {},
   "outputs": [
    {
     "name": "stdout",
     "output_type": "stream",
     "text": [
      "_________________________________________________________________\n",
      "Layer (type)                 Output Shape              Param #   \n",
      "=================================================================\n",
      "dense_6 (Dense)              (None, 1)                 6         \n",
      "=================================================================\n",
      "Total params: 6\n",
      "Trainable params: 6\n",
      "Non-trainable params: 0\n",
      "_________________________________________________________________\n"
     ]
    }
   ],
   "source": [
    "model.summary()\n",
    "\n",
    "# optimizer: change the value\n",
    "model.compile(optimizer = Adam(lr = 0.8), loss = \"mean_squared_error\")  # --> to intigrate all layers"
   ]
  },
  {
   "cell_type": "code",
   "execution_count": 32,
   "metadata": {},
   "outputs": [
    {
     "name": "stdout",
     "output_type": "stream",
     "text": [
      "Epoch 1/100\n",
      "50/50 [==============================] - 1s 15ms/step - loss: 21000601436.1600\n",
      "Epoch 2/100\n",
      "50/50 [==============================] - 0s 337us/step - loss: 10029731676.1600\n",
      "Epoch 3/100\n",
      "50/50 [==============================] - 0s 295us/step - loss: 26180030832.6400\n",
      "Epoch 4/100\n",
      "50/50 [==============================] - 0s 571us/step - loss: 5910175170.5600\n",
      "Epoch 5/100\n",
      "50/50 [==============================] - 0s 412us/step - loss: 14689338818.5600\n",
      "Epoch 6/100\n",
      "50/50 [==============================] - 0s 132us/step - loss: 2187440844.8000\n",
      "Epoch 7/100\n",
      "50/50 [==============================] - 0s 362us/step - loss: 8535119585.2800\n",
      "Epoch 8/100\n",
      "50/50 [==============================] - 0s 345us/step - loss: 1394851420.1600\n",
      "Epoch 9/100\n",
      "50/50 [==============================] - 0s 362us/step - loss: 3232729036.8000\n",
      "Epoch 10/100\n",
      "50/50 [==============================] - 0s 405us/step - loss: 2436526768.6400\n",
      "Epoch 11/100\n",
      "50/50 [==============================] - 0s 131us/step - loss: 1028973854.7200\n",
      "Epoch 12/100\n",
      "50/50 [==============================] - 0s 127us/step - loss: 2733420800.0000\n",
      "Epoch 13/100\n",
      "50/50 [==============================] - 0s 369us/step - loss: 445750822.4000\n",
      "Epoch 14/100\n",
      "50/50 [==============================] - 0s 147us/step - loss: 1789820016.6400\n",
      "Epoch 15/100\n",
      "50/50 [==============================] - 0s 257us/step - loss: 519387276.8000\n",
      "Epoch 16/100\n",
      "50/50 [==============================] - 0s 616us/step - loss: 788486978.5600\n",
      "Epoch 17/100\n",
      "50/50 [==============================] - 0s 380us/step - loss: 623153250.5600\n",
      "Epoch 18/100\n",
      "50/50 [==============================] - 0s 122us/step - loss: 507957752.3200\n",
      "Epoch 19/100\n",
      "50/50 [==============================] - 0s 656us/step - loss: 676012728.3200\n",
      "Epoch 20/100\n",
      "50/50 [==============================] - 0s 374us/step - loss: 314581395.2000\n",
      "Epoch 21/100\n",
      "50/50 [==============================] - 0s 128us/step - loss: 601001612.8000\n",
      "Epoch 22/100\n",
      "50/50 [==============================] - 0s 350us/step - loss: 279540558.0800\n",
      "Epoch 23/100\n",
      "50/50 [==============================] - 0s 368us/step - loss: 520528224.0000\n",
      "Epoch 24/100\n",
      "50/50 [==============================] - 0s 139us/step - loss: 217006524.1600\n",
      "Epoch 25/100\n",
      "50/50 [==============================] - 0s 382us/step - loss: 481651403.5200\n",
      "Epoch 26/100\n",
      "50/50 [==============================] - 0s 126us/step - loss: 217364952.9600\n",
      "Epoch 27/100\n",
      "50/50 [==============================] - 0s 128us/step - loss: 420106808.3200\n",
      "Epoch 28/100\n",
      "50/50 [==============================] - 0s 380us/step - loss: 284528974.0800\n",
      "Epoch 29/100\n",
      "50/50 [==============================] - 0s 131us/step - loss: 374189900.1600\n",
      "Epoch 30/100\n",
      "50/50 [==============================] - 0s 352us/step - loss: 199134062.0800\n",
      "Epoch 31/100\n",
      "50/50 [==============================] - 0s 384us/step - loss: 266193556.4800\n",
      "Epoch 32/100\n",
      "50/50 [==============================] - 0s 128us/step - loss: 190243101.7600\n",
      "Epoch 33/100\n",
      "50/50 [==============================] - 0s 339us/step - loss: 258389349.7600\n",
      "Epoch 34/100\n",
      "50/50 [==============================] - 0s 348us/step - loss: 220216492.8000\n",
      "Epoch 35/100\n",
      "50/50 [==============================] - 0s 131us/step - loss: 225986987.5200\n",
      "Epoch 36/100\n",
      "50/50 [==============================] - 0s 661us/step - loss: 236895925.7600\n",
      "Epoch 37/100\n",
      "50/50 [==============================] - 0s 385us/step - loss: 248793089.2800\n",
      "Epoch 38/100\n",
      "50/50 [==============================] - 0s 151us/step - loss: 245094508.1600\n",
      "Epoch 39/100\n",
      "50/50 [==============================] - 0s 577us/step - loss: 221729783.0400\n",
      "Epoch 40/100\n",
      "50/50 [==============================] - 0s 371us/step - loss: 251284782.0800\n",
      "Epoch 41/100\n",
      "50/50 [==============================] - 0s 127us/step - loss: 182970590.7200\n",
      "Epoch 42/100\n",
      "50/50 [==============================] - 0s 550us/step - loss: 231922657.9200\n",
      "Epoch 43/100\n",
      "50/50 [==============================] - 0s 150us/step - loss: 183608598.4000\n",
      "Epoch 44/100\n",
      "50/50 [==============================] - 0s 353us/step - loss: 193149422.0800\n",
      "Epoch 45/100\n",
      "50/50 [==============================] - 0s 603us/step - loss: 183022237.4400\n",
      "Epoch 46/100\n",
      "50/50 [==============================] - 0s 153us/step - loss: 185731105.9200\n",
      "Epoch 47/100\n",
      "50/50 [==============================] - 0s 367us/step - loss: 200864064.0000\n",
      "Epoch 48/100\n",
      "50/50 [==============================] - 0s 345us/step - loss: 188899264.0000\n",
      "Epoch 49/100\n",
      "50/50 [==============================] - 0s 148us/step - loss: 192297976.3200\n",
      "Epoch 50/100\n",
      "50/50 [==============================] - 0s 557us/step - loss: 181870971.5200\n",
      "Epoch 51/100\n",
      "50/50 [==============================] - 0s 362us/step - loss: 182173247.3600\n",
      "Epoch 52/100\n",
      "50/50 [==============================] - 0s 156us/step - loss: 184618680.9600\n",
      "Epoch 53/100\n",
      "50/50 [==============================] - 0s 614us/step - loss: 187296725.1200\n",
      "Epoch 54/100\n",
      "50/50 [==============================] - 0s 381us/step - loss: 181188841.6000\n",
      "Epoch 55/100\n",
      "50/50 [==============================] - 0s 147us/step - loss: 180182801.9200\n",
      "Epoch 56/100\n",
      "50/50 [==============================] - 0s 372us/step - loss: 186205483.5200\n",
      "Epoch 57/100\n",
      "50/50 [==============================] - 0s 148us/step - loss: 178550358.4000\n",
      "Epoch 58/100\n",
      "50/50 [==============================] - 0s 376us/step - loss: 179906040.3200\n",
      "Epoch 59/100\n",
      "50/50 [==============================] - 0s 378us/step - loss: 178507820.1600\n",
      "Epoch 60/100\n",
      "50/50 [==============================] - 0s 368us/step - loss: 179994888.3200\n",
      "Epoch 61/100\n",
      "50/50 [==============================] - 0s 400us/step - loss: 180623416.9600\n",
      "Epoch 62/100\n",
      "50/50 [==============================] - 0s 584us/step - loss: 184584516.4800\n",
      "Epoch 63/100\n",
      "50/50 [==============================] - 0s 502us/step - loss: 184758227.2000\n",
      "Epoch 64/100\n",
      "50/50 [==============================] - 0s 364us/step - loss: 181452792.3200\n",
      "Epoch 65/100\n",
      "50/50 [==============================] - 0s 357us/step - loss: 179502681.6000\n",
      "Epoch 66/100\n",
      "50/50 [==============================] - 0s 373us/step - loss: 179142337.2800\n",
      "Epoch 67/100\n",
      "50/50 [==============================] - 0s 367us/step - loss: 179495407.3600\n",
      "Epoch 68/100\n",
      "50/50 [==============================] - 0s 425us/step - loss: 183707667.2000\n",
      "Epoch 69/100\n",
      "50/50 [==============================] - 0s 396us/step - loss: 182486560.6400\n",
      "Epoch 70/100\n",
      "50/50 [==============================] - 0s 386us/step - loss: 190027768.3200\n",
      "Epoch 71/100\n",
      "50/50 [==============================] - 0s 597us/step - loss: 206837615.3600\n",
      "Epoch 72/100\n",
      "50/50 [==============================] - 0s 359us/step - loss: 177327424.0000\n",
      "Epoch 73/100\n",
      "50/50 [==============================] - 0s 161us/step - loss: 237343567.3600\n",
      "Epoch 74/100\n",
      "50/50 [==============================] - 0s 454us/step - loss: 225679978.2400\n",
      "Epoch 75/100\n",
      "50/50 [==============================] - 0s 372us/step - loss: 224580409.6000\n",
      "Epoch 76/100\n",
      "50/50 [==============================] - 0s 350us/step - loss: 241209505.2800\n",
      "Epoch 77/100\n",
      "50/50 [==============================] - 0s 399us/step - loss: 256960136.9600\n",
      "Epoch 78/100\n",
      "50/50 [==============================] - 0s 357us/step - loss: 227100788.4800\n",
      "Epoch 79/100\n",
      "50/50 [==============================] - 0s 347us/step - loss: 216534842.8800\n",
      "Epoch 80/100\n",
      "50/50 [==============================] - 0s 372us/step - loss: 231945945.6000\n",
      "Epoch 81/100\n",
      "50/50 [==============================] - 0s 354us/step - loss: 219095715.8400\n",
      "Epoch 82/100\n",
      "50/50 [==============================] - 0s 419us/step - loss: 208899627.5200\n",
      "Epoch 83/100\n",
      "50/50 [==============================] - 0s 364us/step - loss: 201064829.4400\n",
      "Epoch 84/100\n",
      "50/50 [==============================] - 0s 368us/step - loss: 243063733.7600\n",
      "Epoch 85/100\n",
      "50/50 [==============================] - 0s 137us/step - loss: 191056656.6400\n",
      "Epoch 86/100\n",
      "50/50 [==============================] - 0s 373us/step - loss: 231237059.8400\n",
      "Epoch 87/100\n",
      "50/50 [==============================] - 0s 347us/step - loss: 187803342.7200\n",
      "Epoch 88/100\n",
      "50/50 [==============================] - 0s 359us/step - loss: 182061159.6800\n",
      "Epoch 89/100\n",
      "50/50 [==============================] - 0s 375us/step - loss: 178660689.9200\n",
      "Epoch 90/100\n",
      "50/50 [==============================] - 0s 350us/step - loss: 197865461.7600\n"
     ]
    },
    {
     "name": "stdout",
     "output_type": "stream",
     "text": [
      "Epoch 91/100\n",
      "50/50 [==============================] - 0s 394us/step - loss: 188759877.1200\n",
      "Epoch 92/100\n",
      "50/50 [==============================] - 0s 132us/step - loss: 180566435.8400\n",
      "Epoch 93/100\n",
      "50/50 [==============================] - 0s 361us/step - loss: 189651281.2800\n",
      "Epoch 94/100\n",
      "50/50 [==============================] - 0s 575us/step - loss: 198665450.8800\n",
      "Epoch 95/100\n",
      "50/50 [==============================] - 0s 159us/step - loss: 191866841.6000\n",
      "Epoch 96/100\n",
      "50/50 [==============================] - 0s 154us/step - loss: 219572357.1200\n",
      "Epoch 97/100\n",
      "50/50 [==============================] - 0s 380us/step - loss: 189296702.0800\n",
      "Epoch 98/100\n",
      "50/50 [==============================] - 0s 432us/step - loss: 176163796.4800\n",
      "Epoch 99/100\n",
      "50/50 [==============================] - 0s 360us/step - loss: 217026517.4400\n",
      "Epoch 100/100\n",
      "50/50 [==============================] - 0s 427us/step - loss: 178382160.0000\n"
     ]
    },
    {
     "data": {
      "text/plain": [
       "<keras.callbacks.History at 0x7f201bf26c88>"
      ]
     },
     "execution_count": 32,
     "metadata": {},
     "output_type": "execute_result"
    }
   ],
   "source": [
    "# epochs here means no of times we want to train our model for each data in dataset\n",
    "model.fit(X, y, epochs=100)"
   ]
  },
  {
   "cell_type": "code",
   "execution_count": 33,
   "metadata": {},
   "outputs": [],
   "source": [
    "y_pred = model.predict(X)"
   ]
  },
  {
   "cell_type": "code",
   "execution_count": 34,
   "metadata": {},
   "outputs": [
    {
     "name": "stdout",
     "output_type": "stream",
     "text": [
      "The R2 score is 0.875\n"
     ]
    }
   ],
   "source": [
    "# -------------------------------\n",
    "# Evaluating Model Performance\n",
    "# -------------------------------\n",
    "\n",
    "from sklearn.metrics import r2_score\n",
    "print(\"The R2 score is {:0.3f}\".format(r2_score(y, y_pred)))\n"
   ]
  },
  {
   "cell_type": "code",
   "execution_count": 35,
   "metadata": {},
   "outputs": [],
   "source": [
    "#------------------------------------------------\n",
    "# spliting dataset into train and test dataset\n",
    "#------------------------------------------------\n",
    "\n",
    "from sklearn.model_selection import train_test_split\n",
    "X_train, X_test, y_train, y_test = train_test_split(X, y, test_size=0.2, random_state=42)"
   ]
  },
  {
   "cell_type": "code",
   "execution_count": 36,
   "metadata": {},
   "outputs": [],
   "source": [
    "y_train_pred = model.predict(X_train).ravel()\n",
    "y_test_pred = model.predict(X_test).ravel()"
   ]
  },
  {
   "cell_type": "code",
   "execution_count": 37,
   "metadata": {},
   "outputs": [
    {
     "name": "stdout",
     "output_type": "stream",
     "text": [
      "The Mean Squared Error on the Train set is:\t201725612.2\n",
      "The Mean Squared Error on the Test set is:\t191011712.1\n"
     ]
    }
   ],
   "source": [
    "# -------------------------------------------------------------------\n",
    "# Checking the performance of your trained model by calculating MSE\n",
    "# -------------------------------------------------------------------\n",
    "\n",
    "\n",
    "from sklearn.metrics import mean_squared_error as mse\n",
    "\n",
    "print(\"The Mean Squared Error on the Train set is:\\t{:0.1f}\".format(mse(y_train, y_train_pred)))\n",
    "print(\"The Mean Squared Error on the Test set is:\\t{:0.1f}\".format(mse(y_test, y_test_pred)))"
   ]
  },
  {
   "cell_type": "code",
   "execution_count": 38,
   "metadata": {},
   "outputs": [
    {
     "name": "stdout",
     "output_type": "stream",
     "text": [
      "The R2 score on the Train set is:\t0.883\n",
      "The R2 score on the Test set is:\t0.764\n"
     ]
    }
   ],
   "source": [
    "# --------------------\n",
    "# Checking R2 Score\n",
    "# --------------------\n",
    "\n",
    "print(\"The R2 score on the Train set is:\\t{:0.3f}\".format(r2_score(y_train, y_train_pred)))\n",
    "print(\"The R2 score on the Test set is:\\t{:0.3f}\".format(r2_score(y_test, y_test_pred)))"
   ]
  },
  {
   "cell_type": "code",
   "execution_count": null,
   "metadata": {},
   "outputs": [],
   "source": []
  }
 ],
 "metadata": {
  "kernelspec": {
   "display_name": "Python 3",
   "language": "python",
   "name": "python3"
  },
  "language_info": {
   "codemirror_mode": {
    "name": "ipython",
    "version": 3
   },
   "file_extension": ".py",
   "mimetype": "text/x-python",
   "name": "python",
   "nbconvert_exporter": "python",
   "pygments_lexer": "ipython3",
   "version": "3.6.8"
  }
 },
 "nbformat": 4,
 "nbformat_minor": 2
}
